{
 "cells": [
  {
   "cell_type": "markdown",
   "metadata": {
    "collapsed": true
   },
   "source": [
    "Generate a random number in [a, b]"
   ]
  },
  {
   "cell_type": "code",
   "execution_count": 1,
   "metadata": {},
   "outputs": [
    {
     "data": {
      "text/plain": [
       "16"
      ]
     },
     "execution_count": 1,
     "metadata": {},
     "output_type": "execute_result"
    }
   ],
   "source": [
    "import random\n",
    "\n",
    "random.randint(10, 20)"
   ]
  },
  {
   "cell_type": "markdown",
   "metadata": {},
   "source": [
    "Sort dictionary values and keys"
   ]
  },
  {
   "cell_type": "code",
   "execution_count": 13,
   "metadata": {},
   "outputs": [
    {
     "data": {
      "text/plain": [
       "[(134, 'MSFT'), (142, 'GOOGL'), (150, 'NFLX'), (1000, 'HUBS')]"
      ]
     },
     "execution_count": 13,
     "metadata": {},
     "output_type": "execute_result"
    }
   ],
   "source": [
    "d = {'GOOGL': 142, 'MSFT': 134, 'NFLX': 150, 'HUBS': 1000}\n",
    "sorted(zip(d.values(), d.keys()))"
   ]
  },
  {
   "cell_type": "markdown",
   "metadata": {},
   "source": [
    "Find max and min of dictionary"
   ]
  },
  {
   "cell_type": "code",
   "execution_count": 20,
   "metadata": {},
   "outputs": [
    {
     "name": "stdout",
     "output_type": "stream",
     "text": [
      "HUBS\n",
      "1000\n"
     ]
    }
   ],
   "source": [
    "print(max(d, key=lambda x: d[x]))\n",
    "print(d[max(d, key=lambda x: d[x])])"
   ]
  },
  {
   "cell_type": "code",
   "execution_count": 21,
   "metadata": {},
   "outputs": [
    {
     "name": "stdout",
     "output_type": "stream",
     "text": [
      "MSFT\n",
      "134\n"
     ]
    }
   ],
   "source": [
    "print(min(d, key=lambda x: d[x]))\n",
    "print(d[min(d, key=lambda x: d[x])])"
   ]
  },
  {
   "cell_type": "markdown",
   "metadata": {},
   "source": [
    "Operations on dictionary keys"
   ]
  },
  {
   "cell_type": "code",
   "execution_count": 23,
   "metadata": {},
   "outputs": [
    {
     "name": "stdout",
     "output_type": "stream",
     "text": [
      "{'y', 'x'}\n",
      "{'y', 'z', 'x', 'w'}\n",
      "{('z', 3), ('x', 1), ('y', 2), ('x', 10), ('w', 15)}\n",
      "{'z'}\n"
     ]
    }
   ],
   "source": [
    "a = {'x': 1, 'y': 2, 'z': 3}\n",
    "b = {'w': 15, 'x': 10, 'y': 2}\n",
    "\n",
    "print(a.keys() & b.keys())\n",
    "print(a.keys() | b.keys())\n",
    "print(a.items() | b.items())\n",
    "print(a.keys() - b.keys())"
   ]
  }
 ],
 "metadata": {
  "kernelspec": {
   "display_name": "Python 3",
   "language": "python",
   "name": "python3"
  },
  "language_info": {
   "codemirror_mode": {
    "name": "ipython",
    "version": 3
   },
   "file_extension": ".py",
   "mimetype": "text/x-python",
   "name": "python",
   "nbconvert_exporter": "python",
   "pygments_lexer": "ipython3",
   "version": "3.6.2"
  }
 },
 "nbformat": 4,
 "nbformat_minor": 2
}
