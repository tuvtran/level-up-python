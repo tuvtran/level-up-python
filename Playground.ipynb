{
 "cells": [
  {
   "cell_type": "markdown",
   "metadata": {},
   "source": [
    "Generate a random number in [a, b]"
   ]
  },
  {
   "cell_type": "code",
   "execution_count": 2,
   "metadata": {},
   "outputs": [
    {
     "data": {
      "text/plain": [
       "16"
      ]
     },
     "execution_count": 2,
     "metadata": {},
     "output_type": "execute_result"
    }
   ],
   "source": [
    "import random\n",
    "\n",
    "random.randint(10, 20)"
   ]
  },
  {
   "cell_type": "markdown",
   "metadata": {},
   "source": [
    "Sort dictionary values and keys"
   ]
  },
  {
   "cell_type": "code",
   "execution_count": 3,
   "metadata": {},
   "outputs": [
    {
     "data": {
      "text/plain": [
       "[(134, 'MSFT'), (142, 'GOOGL'), (150, 'NFLX'), (1000, 'HUBS')]"
      ]
     },
     "execution_count": 3,
     "metadata": {},
     "output_type": "execute_result"
    }
   ],
   "source": [
    "d = {'GOOGL': 142, 'MSFT': 134, 'NFLX': 150, 'HUBS': 1000}\n",
    "sorted(zip(d.values(), d.keys()))"
   ]
  },
  {
   "cell_type": "markdown",
   "metadata": {},
   "source": [
    "Find max and min of dictionary"
   ]
  },
  {
   "cell_type": "code",
   "execution_count": 4,
   "metadata": {},
   "outputs": [
    {
     "name": "stdout",
     "output_type": "stream",
     "text": [
      "HUBS\n",
      "1000\n"
     ]
    }
   ],
   "source": [
    "print(max(d, key=lambda x: d[x]))\n",
    "print(d[max(d, key=lambda x: d[x])])"
   ]
  },
  {
   "cell_type": "code",
   "execution_count": 5,
   "metadata": {},
   "outputs": [
    {
     "name": "stdout",
     "output_type": "stream",
     "text": [
      "MSFT\n",
      "134\n"
     ]
    }
   ],
   "source": [
    "print(min(d, key=lambda x: d[x]))\n",
    "print(d[min(d, key=lambda x: d[x])])"
   ]
  },
  {
   "cell_type": "markdown",
   "metadata": {},
   "source": [
    "Operations on dictionary keys"
   ]
  },
  {
   "cell_type": "code",
   "execution_count": 6,
   "metadata": {
    "scrolled": true
   },
   "outputs": [
    {
     "name": "stdout",
     "output_type": "stream",
     "text": [
      "{'x', 'y'}\n",
      "{'w', 'x', 'z', 'y'}\n",
      "{('w', 15), ('x', 1), ('z', 3), ('x', 10), ('y', 2)}\n",
      "{'z'}\n"
     ]
    }
   ],
   "source": [
    "a = {'x': 1, 'y': 2, 'z': 3}\n",
    "b = {'w': 15, 'x': 10, 'y': 2}\n",
    "\n",
    "print(a.keys() & b.keys())\n",
    "print(a.keys() | b.keys())\n",
    "print(a.items() | b.items())\n",
    "print(a.keys() - b.keys())"
   ]
  },
  {
   "cell_type": "markdown",
   "metadata": {},
   "source": [
    "Generate a list of random numbers in [a, b)"
   ]
  },
  {
   "cell_type": "code",
   "execution_count": 7,
   "metadata": {},
   "outputs": [
    {
     "data": {
      "text/plain": [
       "[25, 92, 35, 51, 81, 42, 43, 97, 21, 78]"
      ]
     },
     "execution_count": 7,
     "metadata": {},
     "output_type": "execute_result"
    }
   ],
   "source": [
    "random.sample(range(100), 10)"
   ]
  },
  {
   "cell_type": "markdown",
   "metadata": {},
   "source": [
    "`functools.reduce` can take a third argument as a the starting point"
   ]
  },
  {
   "cell_type": "code",
   "execution_count": 10,
   "metadata": {},
   "outputs": [
    {
     "data": {
      "text/plain": [
       "'I am Tu Tran'"
      ]
     },
     "execution_count": 10,
     "metadata": {},
     "output_type": "execute_result"
    }
   ],
   "source": [
    "functools.reduce(lambda c1, c2: c1 + \" \" + c2, [\"Tu\", \"Tran\"], \"I am\")"
   ]
  },
  {
   "cell_type": "markdown",
   "metadata": {},
   "source": [
    "Product of every element in a list"
   ]
  },
  {
   "cell_type": "code",
   "execution_count": 9,
   "metadata": {},
   "outputs": [
    {
     "data": {
      "text/plain": [
       "933262154439441526816992388562667004907159682643816214685929638952175999932299156089414639761565182862536979208272237582511852109168640000000000000000000000"
      ]
     },
     "execution_count": 9,
     "metadata": {},
     "output_type": "execute_result"
    }
   ],
   "source": [
    "import functools\n",
    "\n",
    "functools.reduce(lambda x, y: x * y, range(1, 100))"
   ]
  },
  {
   "cell_type": "code",
   "execution_count": 12,
   "metadata": {},
   "outputs": [
    {
     "name": "stdout",
     "output_type": "stream",
     "text": [
      "The slowest run took 9.41 times longer than the fastest. This could mean that an intermediate result is being cached.\n",
      "10000 loops, best of 3: 21.4 µs per loop\n",
      "100000 loops, best of 3: 14.5 µs per loop\n"
     ]
    }
   ],
   "source": [
    "def f1(n):\n",
    "    if n == 0:\n",
    "        return 1\n",
    "    return n * f1(n - 1)\n",
    "\n",
    "def f2(n):\n",
    "    if n == 0:\n",
    "        return 1\n",
    "    return functools.reduce(lambda x, y: x * y, range(1, n + 1))\n",
    "\n",
    "%timeit f1(100)\n",
    "%timeit f2(100)"
   ]
  },
  {
   "cell_type": "markdown",
   "metadata": {},
   "source": [
    "Flatten a matrix to 1D array"
   ]
  },
  {
   "cell_type": "code",
   "execution_count": 13,
   "metadata": {},
   "outputs": [
    {
     "name": "stdout",
     "output_type": "stream",
     "text": [
      "[1, 2, 3, 4, 5, 6, 7, 8, 9]\n",
      "[1, 2, 3, 4, 5, 6, 7, 8, 9]\n"
     ]
    }
   ],
   "source": [
    "matrix = [\n",
    "    [1, 2, 3],\n",
    "    [4, 5, 6],\n",
    "    [7, 8, 9]\n",
    "]\n",
    "\n",
    "print(functools.reduce(lambda mat1, mat2: mat1 + mat2, matrix))\n",
    "print([i for sub in matrix for i in sub])"
   ]
  },
  {
   "cell_type": "code",
   "execution_count": 14,
   "metadata": {},
   "outputs": [
    {
     "name": "stdout",
     "output_type": "stream",
     "text": [
      "1 loop, best of 3: 5.51 s per loop\n",
      "1000000 loops, best of 3: 672 ns per loop\n"
     ]
    }
   ],
   "source": [
    "test_matrix = [random.sample(range(1000), 1000) for _ in range(1000)]\n",
    "\n",
    "%timeit functools.reduce(lambda mat1, mat2: mat1 + mat2, test_matrix)\n",
    "%timeit [i for sub in matrix for i in sub]"
   ]
  },
  {
   "cell_type": "markdown",
   "metadata": {},
   "source": [
    "Some stuff with matrices"
   ]
  },
  {
   "cell_type": "code",
   "execution_count": 15,
   "metadata": {},
   "outputs": [
    {
     "data": {
      "text/plain": [
       "[(1, 4, 7), (2, 5, 8), (3, 6, 9)]"
      ]
     },
     "execution_count": 15,
     "metadata": {},
     "output_type": "execute_result"
    }
   ],
   "source": [
    "list(zip(*matrix))"
   ]
  },
  {
   "cell_type": "markdown",
   "metadata": {},
   "source": [
    "Faster way to check for palindromicity"
   ]
  },
  {
   "cell_type": "code",
   "execution_count": 16,
   "metadata": {},
   "outputs": [
    {
     "data": {
      "text/plain": [
       "True"
      ]
     },
     "execution_count": 16,
     "metadata": {},
     "output_type": "execute_result"
    }
   ],
   "source": [
    "s = \"GNI car RACING\"\n",
    "\n",
    "all(a == b for a, b in zip(\n",
    "    map(str.lower, filter(str.isalnum, s)),\n",
    "    map(str.lower, filter(str.isalnum, reversed(s))),\n",
    "))"
   ]
  },
  {
   "cell_type": "markdown",
   "metadata": {},
   "source": [
    "ASCII code to character"
   ]
  },
  {
   "cell_type": "code",
   "execution_count": 17,
   "metadata": {},
   "outputs": [
    {
     "data": {
      "text/plain": [
       "'a'"
      ]
     },
     "execution_count": 17,
     "metadata": {},
     "output_type": "execute_result"
    }
   ],
   "source": [
    "chr(97)"
   ]
  },
  {
   "cell_type": "markdown",
   "metadata": {},
   "source": [
    "Character to ASCII code"
   ]
  },
  {
   "cell_type": "code",
   "execution_count": 18,
   "metadata": {},
   "outputs": [
    {
     "data": {
      "text/plain": [
       "65"
      ]
     },
     "execution_count": 18,
     "metadata": {},
     "output_type": "execute_result"
    }
   ],
   "source": [
    "ord('A')"
   ]
  },
  {
   "cell_type": "markdown",
   "metadata": {},
   "source": [
    "`itertools` stuff:\n",
    "\n",
    "- `islice(iteratble, start=None, stop=None [,step])`: returns an iterator on a slice of an iterable\n",
    "- `permutations(iterable, r=None)`: returns P(n,r)\n",
    "- `zip_longest(*iterables, fillvalue=None)`: accepts uneven iterables and returns missing values with `fillvalue`\n",
    "- `product(*iterable, repeat=1)`: compute dot products of iterables\n",
    "- `compress(data, selectors)`: takes a boolean array and only select elements corresponding to `True`\n",
    "- `groupby(iterable, key=None)`: group a sorted iterable (usually list of dictionaries) by a common key"
   ]
  },
  {
   "cell_type": "code",
   "execution_count": 19,
   "metadata": {},
   "outputs": [
    {
     "data": {
      "text/plain": [
       "[(1, 2, 3), (1, 3, 2), (2, 1, 3), (2, 3, 1), (3, 1, 2), (3, 2, 1)]"
      ]
     },
     "execution_count": 19,
     "metadata": {},
     "output_type": "execute_result"
    }
   ],
   "source": [
    "import itertools\n",
    "\n",
    "list(itertools.permutations([1, 2, 3], 3))"
   ]
  },
  {
   "cell_type": "code",
   "execution_count": 20,
   "metadata": {},
   "outputs": [
    {
     "name": "stdout",
     "output_type": "stream",
     "text": [
      "[1]\n",
      "[2, 3, 4, 5, 6, 7]\n"
     ]
    }
   ],
   "source": [
    "print(list(itertools.islice([1,2,3,4,5,6,7,8,9], 1)))\n",
    "print(list(itertools.islice([1,2,3,4,5,6,7,8,9], 1, 7)))"
   ]
  },
  {
   "cell_type": "code",
   "execution_count": 21,
   "metadata": {},
   "outputs": [
    {
     "data": {
      "text/plain": [
       "[(1, 2), (1, 3), (2, 3)]"
      ]
     },
     "execution_count": 21,
     "metadata": {},
     "output_type": "execute_result"
    }
   ],
   "source": [
    "list(itertools.combinations([1,2,3], 2))"
   ]
  },
  {
   "cell_type": "code",
   "execution_count": 22,
   "metadata": {},
   "outputs": [
    {
     "name": "stdout",
     "output_type": "stream",
     "text": [
      "[('A', 'D'), ('A', 'E'), ('A', 'F'), ('B', 'D'), ('B', 'E'), ('B', 'F'), ('C', 'D'), ('C', 'E'), ('C', 'F')]\n",
      "[('A', 'A'), ('A', 'B'), ('A', 'C'), ('B', 'A'), ('B', 'B'), ('B', 'C'), ('C', 'A'), ('C', 'B'), ('C', 'C')]\n",
      "[('A', 'C', 'A', 'C'), ('A', 'C', 'A', 'D'), ('A', 'C', 'B', 'C'), ('A', 'C', 'B', 'D'), ('A', 'D', 'A', 'C'), ('A', 'D', 'A', 'D'), ('A', 'D', 'B', 'C'), ('A', 'D', 'B', 'D'), ('B', 'C', 'A', 'C'), ('B', 'C', 'A', 'D'), ('B', 'C', 'B', 'C'), ('B', 'C', 'B', 'D'), ('B', 'D', 'A', 'C'), ('B', 'D', 'A', 'D'), ('B', 'D', 'B', 'C'), ('B', 'D', 'B', 'D')]\n"
     ]
    }
   ],
   "source": [
    "print(list(itertools.product(\"ABC\", \"DEF\")))\n",
    "print(list(itertools.product(\"ABC\", repeat=2)))\n",
    "print(list(itertools.product(\"AB\", \"CD\", repeat=2)))"
   ]
  },
  {
   "cell_type": "code",
   "execution_count": 23,
   "metadata": {},
   "outputs": [
    {
     "data": {
      "text/plain": [
       "[1, 3, 4]"
      ]
     },
     "execution_count": 23,
     "metadata": {},
     "output_type": "execute_result"
    }
   ],
   "source": [
    "list(itertools.compress(range(6), [False, True, False, True, True, False]))"
   ]
  },
  {
   "cell_type": "code",
   "execution_count": 24,
   "metadata": {},
   "outputs": [
    {
     "data": {
      "text/plain": [
       "[1, 2, 5]"
      ]
     },
     "execution_count": 24,
     "metadata": {},
     "output_type": "execute_result"
    }
   ],
   "source": [
    "list(itertools.compress(range(6), [0, 1, 1, 0, 0, 1]))"
   ]
  },
  {
   "cell_type": "code",
   "execution_count": 29,
   "metadata": {},
   "outputs": [
    {
     "name": "stdout",
     "output_type": "stream",
     "text": [
      "1\n",
      "[1, 1]\n",
      "2\n",
      "[2, 2, 2]\n"
     ]
    }
   ],
   "source": [
    "for label, items in itertools.groupby([1,1,2,2,2]):\n",
    "    print(label)\n",
    "    print(list(items))"
   ]
  },
  {
   "cell_type": "markdown",
   "metadata": {},
   "source": [
    "Binary search with `bisect`\n",
    "\n",
    "- `bisect(list, num, beg, end)`: This function returns the position in the sorted list, where the number passed in argument can be placed **so as to maintain the resultant list in sorted order**. If the element is already present in the list, the **right most position** where element has to be inserted is returned. This function takes 4 arguments, list which has to be worked with, number to insert, starting position in list to consider, ending position which has to be considered.\n",
    "\n",
    "- `bisect_left(list, num, beg, end)`: This function returns the position in the sorted list, where the number passed in argument can be placed so as to maintain the resultant list in sorted order. If the element is already present in the list, the **left most position** where element has to be inserted is returned. This function takes 4 arguments, list which has to be worked with, number to insert, starting position in list to consider, ending position which has to be considered.\n",
    "\n",
    "- `bisect_right(list, num, beg, end)`: This function works similar to the `bisect()` and mentioned above.\n",
    "\n",
    "Those two methods will differ when target is in the array."
   ]
  },
  {
   "cell_type": "code",
   "execution_count": 36,
   "metadata": {},
   "outputs": [
    {
     "name": "stdout",
     "output_type": "stream",
     "text": [
      "3\n",
      "3\n",
      "5\n",
      "4\n"
     ]
    }
   ],
   "source": [
    "import bisect\n",
    "\n",
    "print(bisect.bisect([1, 2, 3, 5, 10, 11], 4))\n",
    "print(bisect.bisect_left([1, 2, 3, 5, 10, 11], 4))\n",
    "print(bisect.bisect([-1,0,3,5,9,12], 9))\n",
    "print(bisect.bisect_left([-1,0,3,5,9,12], 9))"
   ]
  },
  {
   "cell_type": "code",
   "execution_count": 31,
   "metadata": {},
   "outputs": [
    {
     "name": "stdout",
     "output_type": "stream",
     "text": [
      "4\n",
      "3\n"
     ]
    }
   ],
   "source": [
    "print(bisect.bisect([1, 2, 3, 5, 10, 11], 5))      # <-- go from the right\n",
    "print(bisect.bisect_left([1, 2, 3, 5, 10, 11], 5)) # <-- go from the left"
   ]
  },
  {
   "cell_type": "markdown",
   "metadata": {},
   "source": [
    "- `insort(list, num, beg, end)`: This function returns the sorted list after inserting number in appropriate position, if the element is already present in the list, the element is inserted at the **rightmost possible position**. This function takes 4 arguments, list which has to be worked with, number to insert, starting position in list to consider, ending position which has to be considered.\n",
    "\n",
    "- `insort_left(list, num, beg, end)`: This function returns the sorted list after inserting number in appropriate position, if the element is already present in the list, the element is inserted at the **leftmost possible position**. This function takes 4 arguments, list which has to be worked with, number to insert, starting position in list to consider, ending position which has to be considered.\n",
    "\n",
    "- `insort_right(list, num, beg, end)`: This function works similar to the `insort()` as mentioned above"
   ]
  },
  {
   "cell_type": "code",
   "execution_count": 32,
   "metadata": {},
   "outputs": [
    {
     "data": {
      "text/plain": [
       "[1, 2, 3, 3, 4, 4, 5, 5.5, 6, 7]"
      ]
     },
     "execution_count": 32,
     "metadata": {},
     "output_type": "execute_result"
    }
   ],
   "source": [
    "li1 = [1, 2, 3, 3, 4, 4, 5, 6, 7]\n",
    "bisect.insort(li1, 5.5)\n",
    "li1"
   ]
  },
  {
   "cell_type": "code",
   "execution_count": 33,
   "metadata": {},
   "outputs": [
    {
     "data": {
      "text/plain": [
       "[1, 2, 3, 3, 4, 4, 5, 5.5, 6, 7]"
      ]
     },
     "execution_count": 33,
     "metadata": {},
     "output_type": "execute_result"
    }
   ],
   "source": [
    "li2 = [1, 2, 3, 3, 4, 4, 5, 6, 7]\n",
    "bisect.insort_left(li2, 5.5)\n",
    "li2"
   ]
  },
  {
   "cell_type": "markdown",
   "metadata": {},
   "source": [
    "Multiply 2 numbers as list positive or negative"
   ]
  },
  {
   "cell_type": "code",
   "execution_count": 17,
   "metadata": {},
   "outputs": [
    {
     "name": "stdout",
     "output_type": "stream",
     "text": [
      "-1\n"
     ]
    }
   ],
   "source": [
    "num1 = [1, 2, 3]\n",
    "num2 = [-2, 3, 4]\n",
    "\n",
    "# USING XOR\n",
    "sign = -1 if (num1[0] < 0) ^ (num2[0] < 0) else 1\n",
    "print(sign)"
   ]
  },
  {
   "cell_type": "markdown",
   "metadata": {},
   "source": [
    "## Concurrency stuff:\n",
    "\n",
    "To start a thread:"
   ]
  },
  {
   "cell_type": "code",
   "execution_count": 39,
   "metadata": {},
   "outputs": [
    {
     "name": "stdout",
     "output_type": "stream",
     "text": [
      "time is 10time is 7\n",
      "\n",
      "time is 9time is 6\n",
      "\n",
      "time is 8time is 5\n",
      "\n",
      "time is 7time is 4\n",
      "\n",
      "time is 6time is 3\n",
      "\n",
      "time is 2time is 5\n",
      "\n",
      "time is 4time is 1\n",
      "\n",
      "time is 3\n",
      "time is 2\n",
      "time is 1\n"
     ]
    }
   ],
   "source": [
    "from threading import Thread\n",
    "import time\n",
    "\n",
    "def countdown(n):\n",
    "    while n > 0:\n",
    "        print(f'time is {n}')\n",
    "        n -= 1\n",
    "        time.sleep(1)\n",
    "        \n",
    "t1 = Thread(target=countdown, args=(10,))\n",
    "t1.start()\n",
    "t2 = Thread(target=countdown, args=(7,))\n",
    "t2.start()\n",
    "\n",
    "time.sleep(6)\n",
    "t1.join()\n",
    "t2.join()"
   ]
  },
  {
   "cell_type": "markdown",
   "metadata": {},
   "source": [
    "Multiprocessing:"
   ]
  },
  {
   "cell_type": "code",
   "execution_count": 41,
   "metadata": {},
   "outputs": [
    {
     "name": "stdout",
     "output_type": "stream",
     "text": [
      "time is 5\n",
      "time is 4\n",
      "time is 3\n",
      "time is 2\n",
      "time is 1\n"
     ]
    }
   ],
   "source": [
    "import multiprocessing\n",
    "\n",
    "p = multiprocessing.Process(target=countdown, args=(5,))\n",
    "p.start()"
   ]
  }
 ],
 "metadata": {
  "kernelspec": {
   "display_name": "Python 3",
   "language": "python",
   "name": "python3"
  },
  "language_info": {
   "codemirror_mode": {
    "name": "ipython",
    "version": 3
   },
   "file_extension": ".py",
   "mimetype": "text/x-python",
   "name": "python",
   "nbconvert_exporter": "python",
   "pygments_lexer": "ipython3",
   "version": "3.8.2"
  }
 },
 "nbformat": 4,
 "nbformat_minor": 4
}
