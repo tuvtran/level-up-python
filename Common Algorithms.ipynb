{
 "cells": [
  {
   "cell_type": "markdown",
   "metadata": {},
   "source": [
    "# Common Algorithms in Python"
   ]
  },
  {
   "cell_type": "markdown",
   "metadata": {},
   "source": [
    "# Sorting\n",
    "\n",
    "## Quicksort"
   ]
  },
  {
   "cell_type": "code",
   "execution_count": 206,
   "metadata": {},
   "outputs": [
    {
     "name": "stdout",
     "output_type": "stream",
     "text": [
      "Array checked\n"
     ]
    }
   ],
   "source": [
    "import random\n",
    "from typing import List, Tuple\n",
    "\n",
    "nums = list(range(100))\n",
    "random.shuffle(nums)\n",
    "\n",
    "# 3-way quicksort\n",
    "def quicksort3(arr: List[int]) -> None:\n",
    "    \n",
    "    def helper(left: int, right: int):\n",
    "        if right < left:\n",
    "            return\n",
    "        \n",
    "        left_pivot, right_pivot = partition3(left, arr, left, right)\n",
    "        helper(left, left_pivot - 1)\n",
    "        helper(right_pivot + 1, right)\n",
    "        \n",
    "    if not arr:\n",
    "        return\n",
    "    helper(0, len(arr) - 1)\n",
    "        \n",
    "\n",
    "def partition3(pivot_index: int, arr: List[int], left: int, right: int) -> Tuple[int]:\n",
    "    smaller = equal = left\n",
    "    larger = right\n",
    "    pivot = arr[pivot_index]\n",
    "    while equal <= larger:\n",
    "        if arr[equal] < pivot:\n",
    "            arr[equal], arr[smaller] = arr[smaller], arr[equal]\n",
    "            smaller += 1\n",
    "            equal += 1\n",
    "        elif arr[equal] == pivot:\n",
    "            equal += 1\n",
    "        else:\n",
    "            arr[equal], arr[larger] = arr[larger], arr[equal]\n",
    "            larger -= 1\n",
    "            \n",
    "    return smaller, larger\n",
    "\n",
    "\n",
    "def check_increasing(arr: List[int]) -> bool:\n",
    "    return all(arr[i] <= arr[i + 1] for i in range(len(arr) - 1))\n",
    "\n",
    "nums = nums + [random.randint(10, 200) for _ in range(30)] + [random.randint(10, 200) for _ in range(30)]\n",
    "quicksort3(nums)\n",
    "for _ in range(10000):\n",
    "    if not check_increasing(nums):\n",
    "        print(nums)\n",
    "        break\n",
    "print(\"Array checked\")"
   ]
  }
 ],
 "metadata": {
  "kernelspec": {
   "display_name": "Python 3",
   "language": "python",
   "name": "python3"
  },
  "language_info": {
   "codemirror_mode": {
    "name": "ipython",
    "version": 3
   },
   "file_extension": ".py",
   "mimetype": "text/x-python",
   "name": "python",
   "nbconvert_exporter": "python",
   "pygments_lexer": "ipython3",
   "version": "3.8.2"
  }
 },
 "nbformat": 4,
 "nbformat_minor": 4
}
