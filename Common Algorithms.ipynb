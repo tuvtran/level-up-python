{
 "cells": [
  {
   "cell_type": "markdown",
   "metadata": {},
   "source": [
    "# Common Algorithms in Python"
   ]
  },
  {
   "cell_type": "markdown",
   "metadata": {},
   "source": [
    "# Sorting\n",
    "\n",
    "## Quicksort"
   ]
  },
  {
   "cell_type": "code",
   "execution_count": 234,
   "metadata": {},
   "outputs": [
    {
     "name": "stdout",
     "output_type": "stream",
     "text": [
      "Array checked\n"
     ]
    }
   ],
   "source": [
    "import random\n",
    "from typing import List, Tuple\n",
    "\n",
    "\n",
    "# 3-way quicksort\n",
    "def quicksort3(arr: List[int]) -> None:\n",
    "    \n",
    "    def helper(left: int, right: int):\n",
    "        if left > right:\n",
    "            return\n",
    "        \n",
    "        left_pivot, right_pivot = partition3(random.randint(left, right), arr, left, right)\n",
    "        helper(left, left_pivot - 1)\n",
    "        helper(right_pivot + 1, right)\n",
    "        \n",
    "    if not arr:\n",
    "        return\n",
    "    helper(0, len(arr) - 1)\n",
    "        \n",
    "\n",
    "def partition3(pivot_index: int, arr: List[int], left: int, right: int) -> Tuple[int]:\n",
    "    smaller = equal = left\n",
    "    larger = right\n",
    "    pivot = arr[pivot_index]\n",
    "    while equal <= larger:\n",
    "        if arr[equal] < pivot:\n",
    "            arr[equal], arr[smaller] = arr[smaller], arr[equal]\n",
    "            smaller += 1\n",
    "            equal += 1\n",
    "        elif arr[equal] == pivot:\n",
    "            equal += 1\n",
    "        else:\n",
    "            arr[equal], arr[larger] = arr[larger], arr[equal]\n",
    "            larger -= 1\n",
    "            \n",
    "    return smaller, larger\n",
    "\n",
    "\n",
    "def check_increasing(arr: List[int]) -> bool:\n",
    "    return all(arr[i] <= arr[i + 1] for i in range(len(arr) - 1))\n",
    "\n",
    "nums = list(range(100))\n",
    "random.shuffle(nums)\n",
    "nums = nums + [random.randint(10, 200) for _ in range(30)] + [random.randint(10, 200) for _ in range(30)]\n",
    "quicksort3(nums)\n",
    "for _ in range(10000):\n",
    "    if not check_increasing(nums):\n",
    "        print(nums)\n",
    "        break\n",
    "print(\"Array checked\")"
   ]
  },
  {
   "cell_type": "code",
   "execution_count": 231,
   "metadata": {},
   "outputs": [
    {
     "name": "stdout",
     "output_type": "stream",
     "text": [
      "Array checked\n"
     ]
    }
   ],
   "source": [
    "# 2-way quicksort\n",
    "def quicksort2(arr: List[int]) -> None:\n",
    "    def helper(left: int, right: int) -> None:\n",
    "        if left > right:\n",
    "            return\n",
    "        pivot_index = partition2(random.randint(left, right), arr, left, right)\n",
    "        helper(left, pivot_index - 1)\n",
    "        helper(pivot_index + 1, right)\n",
    "    \n",
    "    if not arr:\n",
    "        return\n",
    "    helper(0, len(arr) - 1)\n",
    "    \n",
    "\n",
    "def partition2(pivot_index: int, arr: List[int], left: int, right: int) -> int:\n",
    "    pivot = arr[pivot_index]\n",
    "    arr[pivot_index], arr[left] = arr[left], arr[pivot_index]\n",
    "    smaller = left\n",
    "    for i in range(left + 1, right + 1):\n",
    "        if arr[i] <= pivot:\n",
    "            smaller += 1\n",
    "            arr[i], arr[smaller] = arr[smaller], arr[i]\n",
    "\n",
    "    arr[left], arr[smaller] = arr[smaller], arr[left]\n",
    "    return smaller\n",
    "\n",
    "\n",
    "nums = list(range(100))\n",
    "random.shuffle(nums)\n",
    "nums = nums + [random.randint(10, 200) for _ in range(30)] + [random.randint(10, 200) for _ in range(30)]\n",
    "quicksort2(nums)\n",
    "for _ in range(10000):\n",
    "    if not check_increasing(nums):\n",
    "        print(nums)\n",
    "        break\n",
    "print(\"Array checked\")"
   ]
  },
  {
   "cell_type": "code",
   "execution_count": 222,
   "metadata": {},
   "outputs": [
    {
     "data": {
      "text/plain": [
       "1"
      ]
     },
     "execution_count": 222,
     "metadata": {},
     "output_type": "execute_result"
    }
   ],
   "source": [
    "# quick select\n",
    "# k-smallest element\n",
    "def quickselect(arr: List[int], k: int) -> int:\n",
    "    def helper(left: int, right: int) -> None:\n",
    "        if left > right:\n",
    "            return -1\n",
    "        pivot_index = partition2(random.randint(left, right), arr, left, right)\n",
    "        if pivot_index == k - 1:\n",
    "            return arr[pivot_index]\n",
    "        elif pivot_index > k - 1:\n",
    "            return helper(left, pivot_index - 1)\n",
    "        else:\n",
    "            return helper(pivot_index + 1, right)\n",
    "    \n",
    "    if not arr:\n",
    "        return -1\n",
    "    return helper(0, len(arr) - 1)\n",
    "\n",
    "quickselect([2, 0, 1, 10, 3, 19, 4], 2)"
   ]
  }
 ],
 "metadata": {
  "kernelspec": {
   "display_name": "Python 3",
   "language": "python",
   "name": "python3"
  },
  "language_info": {
   "codemirror_mode": {
    "name": "ipython",
    "version": 3
   },
   "file_extension": ".py",
   "mimetype": "text/x-python",
   "name": "python",
   "nbconvert_exporter": "python",
   "pygments_lexer": "ipython3",
   "version": "3.8.2"
  }
 },
 "nbformat": 4,
 "nbformat_minor": 4
}
