{
 "cells": [
  {
   "cell_type": "markdown",
   "metadata": {},
   "source": [
    "# Chapter 2\n",
    "# Strings and Text"
   ]
  },
  {
   "cell_type": "markdown",
   "metadata": {},
   "source": [
    "## Table of content:\n",
    "1. [Splitting Strings on Any of Multiple Delimiters](#2.1-Splitting-Strings-on-Any-of-Multiple-Delimiters)"
   ]
  },
  {
   "cell_type": "markdown",
   "metadata": {},
   "source": [
    "## 2.1 Splitting Strings on Any of Multiple Delimiters"
   ]
  },
  {
   "cell_type": "markdown",
   "metadata": {},
   "source": [
    "You need to split strings, but the delimiters (and spacing around them) are not consistent throughout the strings. `split()` works for some simple cases, but for more complicated scenarios, it would not be preferred.\n",
    "\n",
    "In case you need more flexibility, use the `re.split()` method instead:"
   ]
  },
  {
   "cell_type": "code",
   "execution_count": 1,
   "metadata": {},
   "outputs": [],
   "source": [
    "line = \"This is my; life and I doubt, it will turn. out.         well\""
   ]
  },
  {
   "cell_type": "code",
   "execution_count": 12,
   "metadata": {},
   "outputs": [
    {
     "name": "stdout",
     "output_type": "stream",
     "text": [
      "['This', 'is', 'my', 'life', 'and', 'I', 'doubt', 'it', 'will', 'turn', 'out', 'well']\n"
     ]
    }
   ],
   "source": [
    "import re\n",
    "\n",
    "print(re.split(r'[;,.\\s]\\s*', line))"
   ]
  },
  {
   "cell_type": "markdown",
   "metadata": {},
   "source": [
    "The `re.split()` is useful because you can specify multiple patterns for the separator. For example, as shown in the solution, the separator is either a comma, a dot, a semicolon or multiple whitespace. Whenever that pattern is found, the entire match becomes the delimiter between whatever fields lie on either side of the match. The result is a list of fields, just as with `.split()`.\n",
    "\n",
    "When using `re.split()`, be careful should the regex pattern involve a capture group enclosed in parentheses. If capture groups are used, then the matched text is also included in the result:"
   ]
  },
  {
   "cell_type": "code",
   "execution_count": 10,
   "metadata": {},
   "outputs": [
    {
     "name": "stdout",
     "output_type": "stream",
     "text": [
      "['', 'T', '', 'h', '', 'i', '', 's', '', 'i', '', 's', '', 'm', '', 'y', '', ';', '', 'l', '', 'i', '', 'f', '', 'e', '', 'a', '', 'n', '', 'd', '', 'I', '', 'd', '', 'o', '', 'u', '', 'b', '', 't', '', ',', '', 'i', '', 't', '', 'w', '', 'i', '', 'l', '', 'l', '', 't', '', 'u', '', 'r', '', 'n', '', '.', '', 'o', '', 'u', '', 't', '', '.', '', 'w', '', 'e', '', 'l', '', 'l', '']\n"
     ]
    }
   ],
   "source": [
    "fields = re.split(r'(;|,|.|\\s)\\s*', line)\n",
    "print(fields)"
   ]
  },
  {
   "cell_type": "markdown",
   "metadata": {},
   "source": [
    "If you don't want the separator characters, but still need parentheses to group parts of the regular expression pattern, make sure to use a noncapture group, specified as `(?:...)`:"
   ]
  },
  {
   "cell_type": "code",
   "execution_count": 13,
   "metadata": {},
   "outputs": [
    {
     "name": "stdout",
     "output_type": "stream",
     "text": [
      "['', '', '', '', '', '', '', '', '', '', '', '', '', '', '', '', '', '', '', '', '', '', '', '', '', '', '', '', '', '', '', '', '', '', '', '', '', '', '', '', '', '', '']\n"
     ]
    }
   ],
   "source": [
    "print(re.split(r'(?:;|,|.|\\s)\\s*', line))"
   ]
  },
  {
   "cell_type": "code",
   "execution_count": 14,
   "metadata": {},
   "outputs": [],
   "source": [
    "%reset"
   ]
  }
 ],
 "metadata": {
  "kernelspec": {
   "display_name": "Python 3",
   "language": "python",
   "name": "python3"
  },
  "language_info": {
   "codemirror_mode": {
    "name": "ipython",
    "version": 3
   },
   "file_extension": ".py",
   "mimetype": "text/x-python",
   "name": "python",
   "nbconvert_exporter": "python",
   "pygments_lexer": "ipython3",
   "version": "3.6.1"
  }
 },
 "nbformat": 4,
 "nbformat_minor": 2
}
